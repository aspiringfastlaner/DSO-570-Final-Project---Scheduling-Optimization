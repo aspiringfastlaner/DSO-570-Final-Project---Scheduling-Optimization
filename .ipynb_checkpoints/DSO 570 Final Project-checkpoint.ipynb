{
 "cells": [
  {
   "cell_type": "code",
   "execution_count": null,
   "metadata": {
    "collapsed": true
   },
   "outputs": [],
   "source": [
    "# Importing modules\n",
    "import gurobipy as grb\n",
    "import pandas as pd\n",
    "import numpy as np\n",
    "import os\n",
    "import matplotlib.pyplot as plt\n",
    "from pandas import ExcelWriter\n",
    "from collections import Counter\n",
    "from itertools import combinations\n",
    "import datetime\n",
    "\n",
    "# Function for saving excel files\n",
    "def save_xls(list_dfs, xls_path, sheet_names):\n",
    "    writer = ExcelWriter(xls_path)\n",
    "    for n, df in enumerate(list_dfs):\n",
    "        df.to_excel(writer, sheet_names[n])\n",
    "    writer.save()\n",
    "    return\n",
    "\n",
    "%matplotlib inline"
   ]
  },
  {
   "cell_type": "code",
   "execution_count": null,
   "metadata": {
    "collapsed": true
   },
   "outputs": [],
   "source": [
    "# Defining class for data retrieval and cleaning\n",
    "# Import data\n",
    "enrolls = pd.read_excel('Marshall_Course_Enrollment_1516_1617.xlsx')\n",
    "cancels = pd.read_excel('Cancelled_Courses_1516_1617.xlsx')\n",
    "rmcaps = pd.read_excel('Marshall_Room_Capacity_Chart.xlsx')\n",
    "specprg = pd.read_excel('Summary_Special_Session_Codes_1516_1617.xlsx')\n",
    "depaloc = pd.read_excel('Department_Allocations_20171.xlsx')\n",
    "selects = pd.read_excel('Student_Course_Selection_1516.xlsx')\n",
    "\n",
    "\n",
    "dirname = os.path.dirname(__file__)\n",
    "filename = os.path.join(dirname, '/relative/path/to/file/you/want')"
   ]
  }
 ],
 "metadata": {
  "kernelspec": {
   "display_name": "Python 3",
   "language": "python",
   "name": "python3"
  },
  "language_info": {
   "codemirror_mode": {
    "name": "ipython",
    "version": 3
   },
   "file_extension": ".py",
   "mimetype": "text/x-python",
   "name": "python",
   "nbconvert_exporter": "python",
   "pygments_lexer": "ipython3",
   "version": "3.6.1"
  }
 },
 "nbformat": 4,
 "nbformat_minor": 2
}
